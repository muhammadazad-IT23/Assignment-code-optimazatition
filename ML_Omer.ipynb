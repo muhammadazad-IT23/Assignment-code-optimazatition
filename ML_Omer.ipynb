{
  "nbformat": 4,
  "nbformat_minor": 0,
  "metadata": {
    "colab": {
      "provenance": [],
      "authorship_tag": "ABX9TyMq7BdNSmQ8ADNSgMF0zFoh",
      "include_colab_link": true
    },
    "kernelspec": {
      "name": "python3",
      "display_name": "Python 3"
    },
    "language_info": {
      "name": "python"
    }
  },
  "cells": [
    {
      "cell_type": "markdown",
      "metadata": {
        "id": "view-in-github",
        "colab_type": "text"
      },
      "source": [
        "<a href=\"https://colab.research.google.com/github/muhammadazad-IT23/Assignment-code-optimazatition/blob/main/ML_Omer.ipynb\" target=\"_parent\"><img src=\"https://colab.research.google.com/assets/colab-badge.svg\" alt=\"Open In Colab\"/></a>"
      ]
    },
    {
      "cell_type": "code",
      "execution_count": 23,
      "metadata": {
        "colab": {
          "base_uri": "https://localhost:8080/"
        },
        "collapsed": true,
        "id": "wtwKk4JyoEa-",
        "outputId": "585e4a36-3ed0-4866-ec7c-125bd2a22a4d"
      },
      "outputs": [
        {
          "output_type": "stream",
          "name": "stdout",
          "text": [
            "          Brand Category  Color Size Material  Price\n",
            "0   New Balance    Dress  White   XS    Nylon    182\n",
            "1   New Balance    Jeans  Black   XS     Silk     57\n",
            "2  Under Armour    Dress    Red    M     Wool    127\n",
            "3          Nike    Shoes  Green    M   Cotton     77\n",
            "4        Adidas  Sweater  White    M    Nylon    113\n"
          ]
        }
      ],
      "source": [
        "import pandas as pd\n",
        "import matplotlib.pyplot as plt\n",
        "import seaborn as sns\n",
        "from sklearn.preprocessing import StandardScaler\n",
        "from sklearn.model_selection import train_test_split\n",
        "\n",
        "\n",
        "#Load the dataset using a data analysis library such as pandas.\n",
        "\n",
        "# Load the dataset\n",
        "data = pd.read_csv('/content/sample_data/clothes_price_prediction_data.csv')\n",
        "\n",
        "# Display the first few rows of the dataset to inspect it\n",
        "print(data.head())\n"
      ]
    },
    {
      "cell_type": "code",
      "source": [
        "#Understand the structure and characteristics of the data and summarize the dataset’s main characteristics.\n",
        "\n",
        "# Display the shape of the dataset (number of rows and columns)\n",
        "print(\"Dataset shape:\", data.shape)\n",
        "\n",
        "# Display data types of each column\n",
        "print(\"\\nData Types:\\n\", data.dtypes)\n",
        "\n",
        "# Check for missing values in each column\n",
        "print(\"\\nMissing values:\\n\", data.isnull().sum())\n",
        "\n",
        "# Get a statistical summary of the numerical features\n",
        "print(\"\\nStatistical Summary:\\n\", data.describe())\n",
        "\n",
        "# Optional: Display a sample of rows to understand what the data looks like\n",
        "print(\"\\nData Sample:\\n\", data.head())"
      ],
      "metadata": {
        "colab": {
          "base_uri": "https://localhost:8080/"
        },
        "collapsed": true,
        "id": "8MCLpYdhox7i",
        "outputId": "b1d84cc4-2a07-4b6d-fc81-f58367ea2607"
      },
      "execution_count": 7,
      "outputs": [
        {
          "output_type": "stream",
          "name": "stdout",
          "text": [
            "Dataset shape: (1000, 6)\n",
            "\n",
            "Data Types:\n",
            " Brand       object\n",
            "Category    object\n",
            "Color       object\n",
            "Size        object\n",
            "Material    object\n",
            "Price        int64\n",
            "dtype: object\n",
            "\n",
            "Missing values:\n",
            " Brand       0\n",
            "Category    0\n",
            "Color       0\n",
            "Size        0\n",
            "Material    0\n",
            "Price       0\n",
            "dtype: int64\n",
            "\n",
            "Statistical Summary:\n",
            "              Price\n",
            "count  1000.000000\n",
            "mean    106.289000\n",
            "std      53.695444\n",
            "min      10.000000\n",
            "25%      59.750000\n",
            "50%     108.000000\n",
            "75%     150.000000\n",
            "max     199.000000\n",
            "\n",
            "Data Sample:\n",
            "           Brand Category  Color Size Material  Price\n",
            "0   New Balance    Dress  White   XS    Nylon    182\n",
            "1   New Balance    Jeans  Black   XS     Silk     57\n",
            "2  Under Armour    Dress    Red    M     Wool    127\n",
            "3          Nike    Shoes  Green    M   Cotton     77\n",
            "4        Adidas  Sweater  White    M    Nylon    113\n"
          ]
        }
      ]
    },
    {
      "cell_type": "code",
      "source": [
        "#Visualize the data distribution and relationships between features.\n",
        "\n",
        "data.hist(figsize=(10, 8), bins=15)\n",
        "plt.tight_layout()  # Adjusts plot parameters to give a tight layout.\n",
        "plt.show()\n"
      ],
      "metadata": {
        "colab": {
          "base_uri": "https://localhost:8080/",
          "height": 778
        },
        "collapsed": true,
        "id": "cWlR43u4ppq1",
        "outputId": "83d2aec1-adb2-4248-9d65-14756a189f05"
      },
      "execution_count": 11,
      "outputs": [
        {
          "output_type": "display_data",
          "data": {
            "text/plain": [
              "<Figure size 1000x800 with 1 Axes>"
            ],
            "image/png": "[encoded data removed]"
          },
          "metadata": {}
        }
      ]
    },
    {
      "cell_type": "code",
      "source": [
        "#Handle missing values appropriately.\n",
        "\n",
        "print(data.isnull().sum())\n"
      ],
      "metadata": {
        "colab": {
          "base_uri": "https://localhost:8080/"
        },
        "collapsed": true,
        "id": "tA6NsaqrqSSS",
        "outputId": "c55a3791-0105-41ab-ca21-9a470f6f559e"
      },
      "execution_count": 17,
      "outputs": [
        {
          "output_type": "stream",
          "name": "stdout",
          "text": [
            "Brand       0\n",
            "Category    0\n",
            "Color       0\n",
            "Size        0\n",
            "Material    0\n",
            "Price       0\n",
            "dtype: int64\n"
          ]
        }
      ]
    },
    {
      "cell_type": "code",
      "source": [
        "#Encode categorical variables if needed (e.g., using one-hot encoding).\n",
        "\n",
        "print(data.dtypes)\n",
        "data = pd.get_dummies(data)\n",
        "\n",
        "from sklearn.preprocessing import LabelEncoder\n",
        "\n",
        "le = LabelEncoder()\n",
        "for column in data.select_dtypes(include=['object']).columns:\n",
        "    data[column] = le.fit_transform(data[column])\n",
        "\n",
        "print(data.head())"
      ],
      "metadata": {
        "colab": {
          "base_uri": "https://localhost:8080/"
        },
        "collapsed": true,
        "id": "IozIhWuwqzWn",
        "outputId": "6ba1cae0-7029-4f86-a6ac-a67f701cd9c4"
      },
      "execution_count": 22,
      "outputs": [
        {
          "output_type": "stream",
          "name": "stdout",
          "text": [
            "Price                 int64\n",
            "Brand_Adidas           bool\n",
            "Brand_New Balance      bool\n",
            "Brand_Nike             bool\n",
            "Brand_Puma             bool\n",
            "Brand_Reebok           bool\n",
            "Brand_Under Armour     bool\n",
            "Category_Dress         bool\n",
            "Category_Jacket        bool\n",
            "Category_Jeans         bool\n",
            "Category_Shoes         bool\n",
            "Category_Sweater       bool\n",
            "Category_T-shirt       bool\n",
            "Color_Black            bool\n",
            "Color_Blue             bool\n",
            "Color_Green            bool\n",
            "Color_Red              bool\n",
            "Color_White            bool\n",
            "Color_Yellow           bool\n",
            "Size_L                 bool\n",
            "Size_M                 bool\n",
            "Size_S                 bool\n",
            "Size_XL                bool\n",
            "Size_XS                bool\n",
            "Size_XXL               bool\n",
            "Material_Cotton        bool\n",
            "Material_Denim         bool\n",
            "Material_Nylon         bool\n",
            "Material_Polyester     bool\n",
            "Material_Silk          bool\n",
            "Material_Wool          bool\n",
            "dtype: object\n",
            "   Price  Brand_Adidas  Brand_New Balance  Brand_Nike  Brand_Puma  \\\n",
            "0    182         False               True       False       False   \n",
            "1     57         False               True       False       False   \n",
            "2    127         False              False       False       False   \n",
            "3     77         False              False        True       False   \n",
            "4    113          True              False       False       False   \n",
            "\n",
            "   Brand_Reebok  Brand_Under Armour  Category_Dress  Category_Jacket  \\\n",
            "0         False               False            True            False   \n",
            "1         False               False           False            False   \n",
            "2         False                True            True            False   \n",
            "3         False               False           False            False   \n",
            "4         False               False           False            False   \n",
            "\n",
            "   Category_Jeans  ...  Size_S  Size_XL  Size_XS  Size_XXL  Material_Cotton  \\\n",
            "0           False  ...   False    False     True     False            False   \n",
            "1            True  ...   False    False     True     False            False   \n",
            "2           False  ...   False    False    False     False            False   \n",
            "3           False  ...   False    False    False     False             True   \n",
            "4           False  ...   False    False    False     False            False   \n",
            "\n",
            "   Material_Denim  Material_Nylon  Material_Polyester  Material_Silk  \\\n",
            "0           False            True               False          False   \n",
            "1           False           False               False           True   \n",
            "2           False           False               False          False   \n",
            "3           False           False               False          False   \n",
            "4           False            True               False          False   \n",
            "\n",
            "   Material_Wool  \n",
            "0          False  \n",
            "1          False  \n",
            "2           True  \n",
            "3          False  \n",
            "4          False  \n",
            "\n",
            "[5 rows x 31 columns]\n"
          ]
        }
      ]
    },
    {
      "cell_type": "code",
      "source": [
        "# Normalize or scale the features to improve model performance.\n",
        "\n",
        "scaler = StandardScaler()\n",
        "numeric_cols = data.select_dtypes(include=['int64', 'float64']).columns\n",
        "data[numeric_cols] = scaler.fit_transform(data[numeric_cols])\n",
        "\n",
        "print(data.head())"
      ],
      "metadata": {
        "colab": {
          "base_uri": "https://localhost:8080/"
        },
        "collapsed": true,
        "id": "44D0VcN0sVaQ",
        "outputId": "27bcfacc-53a7-4e24-fa53-0c5ed7ff4cf6"
      },
      "execution_count": 31,
      "outputs": [
        {
          "output_type": "stream",
          "name": "stdout",
          "text": [
            "          Brand Category  Color Size Material     Price\n",
            "0   New Balance    Dress  White   XS    Nylon  1.410713\n",
            "1   New Balance    Jeans  Black   XS     Silk -0.918396\n",
            "2  Under Armour    Dress    Red    M     Wool  0.385905\n",
            "3          Nike    Shoes  Green    M   Cotton -0.545738\n",
            "4        Adidas  Sweater  White    M    Nylon  0.125045\n"
          ]
        }
      ]
    },
    {
      "cell_type": "code",
      "source": [
        "#Split the dataset into training and testing sets (e.g., 70% training, 30% testing).\n",
        "\n",
        "# Assuming 'Category' is your features and 'Material' is your target column\n",
        "X = data.drop('Category', axis=1)  # This removes the 'Category' column from the input features\n",
        "y = data['Material']  # This sets 'y' to be the 'Material' column\n",
        "\n",
        "# Split the data into training and testing sets\n",
        "X_train, X_test, y_train, y_test = train_test_split(X, y, test_size=0.30, random_state=42)\n",
        "\n",
        "# Print the sizes of the datasets to verify\n",
        "print(f\"Training set size: {len(X_train)} samples\")\n",
        "print(f\"Testing set size: {len(X_test)} samples\")\n"
      ],
      "metadata": {
        "colab": {
          "base_uri": "https://localhost:8080/"
        },
        "collapsed": true,
        "id": "d1NRN8yXtn3u",
        "outputId": "ab1f2a91-7484-4ece-a909-21f3688372d4"
      },
      "execution_count": 40,
      "outputs": [
        {
          "output_type": "stream",
          "name": "stdout",
          "text": [
            "Training set size: 700 samples\n",
            "Testing set size: 300 samples\n"
          ]
        }
      ]
    }
  ]
}